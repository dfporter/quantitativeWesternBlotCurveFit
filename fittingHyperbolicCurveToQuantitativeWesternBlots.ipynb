{
 "cells": [
  {
   "cell_type": "code",
   "execution_count": 1,
   "id": "9a13d49a-0d1a-44aa-bfa7-ed8a1c303e12",
   "metadata": {},
   "outputs": [],
   "source": [
    "import scipy, pandas\n",
    "import scipy.optimize\n",
    "import numpy as np\n",
    "import matplotlib.pyplot as plt\n",
    "import seaborn as sns"
   ]
  },
  {
   "cell_type": "code",
   "execution_count": 2,
   "id": "89c8480a-2b4e-40d2-a85f-48148e6365fa",
   "metadata": {},
   "outputs": [],
   "source": [
    "##########################################################################\n",
    "# Make some raw data. Usually this would be read from a text file\n",
    "# using pandas.\n",
    "##########################################################################\n",
    "\n",
    "# This is real standard data.\n",
    "raw_data = \"\"\"anti-HA\tng STD\n",
    "915000\t2000\n",
    "726000\t1000\n",
    "521000\t500\n",
    "335000\t250\n",
    "79200\t62.5\n",
    "30000\t31.25\n",
    "7610\t15.625\"\"\"\n"
   ]
  },
  {
   "cell_type": "code",
   "execution_count": 3,
   "id": "dde39257-71e7-44e5-b799-0315ce19de37",
   "metadata": {},
   "outputs": [],
   "source": [
    "##########################################################################\n",
    "# Convert the raw data into lists of protein amounts and fluorescence.\n",
    "##########################################################################\n",
    "\n",
    "ng_protein_std = [float(x.split('\\t')[1]) for x in raw_data.split('\\n')[1:]]\n",
    "fluorescence_std = [float(x.split('\\t')[0]) for x in raw_data.split('\\n')[1:]]"
   ]
  },
  {
   "cell_type": "code",
   "execution_count": 18,
   "id": "7c39040d-5bad-49f4-b6f7-438ada98011a",
   "metadata": {},
   "outputs": [],
   "source": [
    "##########################################################################\n",
    "# The curve can be fit to protein weight (ng) or molarity.\n",
    "# It is simpler to use molarity because no correction factor is needed\n",
    "# for comparing different samples. So we convert to molarity.\n",
    "##########################################################################\n",
    "\n",
    "MW_standard_kDa = 50  # 50 kDa standard.\n",
    "\n",
    "# For 1 ng of a 1 kDa standard:\n",
    "# 1 ng / (1 kg/mol) = 1 mol * (ng/kg) = 1 mol * 1E-12 = 1 nmol\n",
    "# That is, divide ng by kDa to obtain pmols.\n",
    "\n",
    "pmol_protein_std = [x/MW_standard_kDa for x in ng_protein_std]"
   ]
  },
  {
   "cell_type": "code",
   "execution_count": 24,
   "id": "e8aeb695-0f9c-4ec5-93e4-327137b072a9",
   "metadata": {},
   "outputs": [
    {
     "name": "stdout",
     "output_type": "stream",
     "text": [
      "Parameters a=1241557.024524991 b=14.141251715776058\n"
     ]
    }
   ],
   "source": [
    "##########################################################################\n",
    "# Fit the curve.\n",
    "##########################################################################\n",
    "\n",
    "def hyperbolic(x, a, b):\n",
    "    return (x*a)/(x+b)\n",
    "\n",
    "def inverse_hyperbolic(x, a, b):\n",
    "    return (-x*b)/(x-a)\n",
    "\n",
    "def fit_curve(pmol_protein, fluorescence):\n",
    "\n",
    "    params, pcov = scipy.optimize.curve_fit(\n",
    "     hyperbolic, pmol_protein, fluorescence, p0=(50000, 100))\n",
    "    \n",
    "    return params\n",
    "\n",
    "params = fit_curve(pmol_protein_std, fluorescence_std)\n",
    "print(f\"Parameters a={params[0]} b={params[1]}\")"
   ]
  },
  {
   "cell_type": "code",
   "execution_count": 23,
   "id": "572fe769-6b7b-40b2-aa31-4a9302edf221",
   "metadata": {},
   "outputs": [
    {
     "data": {
      "image/png": "[encoded data removed]",
      "text/plain": [
       "<Figure size 432x288 with 1 Axes>"
      ]
     },
     "metadata": {},
     "output_type": "display_data"
    },
    {
     "data": {
      "text/plain": [
       "<Figure size 432x288 with 0 Axes>"
      ]
     },
     "metadata": {},
     "output_type": "display_data"
    }
   ],
   "source": [
    "##########################################################################\n",
    "# Show the fit curve. \n",
    "##########################################################################\n",
    "\n",
    "sns.set_style('ticks')\n",
    "fig, ax = plt.subplots()\n",
    "\n",
    "# Plot the standards.\n",
    "plt.plot(pmol_protein_std, fluorescence_std, 'k.', markersize=5, alpha=1)\n",
    "\n",
    "# Plot the fit curve.\n",
    "xarr = np.linspace(0, max(pmol_protein_std), 100)\n",
    "plt.plot(xarr, hyperbolic(xarr, *params), 'b:', linewidth=2, alpha=0.5)\n",
    "\n",
    "ax.set_xlabel('Protein (pmol)', fontsize=8)\n",
    "ax.set_ylabel('Band intensity', fontsize=8)\n",
    "\n",
    "plt.show(); plt.clf()  # The fit is basically perfect."
   ]
  },
  {
   "cell_type": "code",
   "execution_count": 25,
   "id": "27a7a7d4-d95f-4fd5-866c-968603a412a7",
   "metadata": {},
   "outputs": [
    {
     "name": "stdout",
     "output_type": "stream",
     "text": [
      "Estimated pmol: [1.768366014087116, 0.9622489151157766, 8.614254157697022]\n"
     ]
    }
   ],
   "source": [
    "##########################################################################\n",
    "# Estimate the ng of some experimental samples run with the standards.\n",
    "##########################################################################\n",
    "\n",
    "experimental_fluor = [138000, 79100, 470000]\n",
    "\n",
    "estimated_pmol_test = [inverse_hyperbolic(fluor, *params) for fluor in experimental_fluor]\n",
    "\n",
    "print(f\"Estimated pmol: {estimated_pmol_test}\")"
   ]
  },
  {
   "cell_type": "code",
   "execution_count": 28,
   "id": "f9dc271f-4332-4aa1-a1bc-f9ea86237e14",
   "metadata": {},
   "outputs": [
    {
     "data": {
      "image/png": "[encoded data removed]",
      "text/plain": [
       "<Figure size 432x288 with 1 Axes>"
      ]
     },
     "metadata": {},
     "output_type": "display_data"
    },
    {
     "data": {
      "text/plain": [
       "<Figure size 432x288 with 0 Axes>"
      ]
     },
     "metadata": {},
     "output_type": "display_data"
    }
   ],
   "source": [
    "##########################################################################\n",
    "# Show the test samples in the fit curve.\n",
    "##########################################################################\n",
    "\n",
    "sns.set_style('ticks')\n",
    "fig, ax = plt.subplots()\n",
    "\n",
    "# Plot the standards.\n",
    "plt.plot(pmol_protein_std, fluorescence_std, 'k.', markersize=5, alpha=1)\n",
    "\n",
    "# Plot the fit curve.\n",
    "xarr = np.linspace(0, max(pmol_protein_std), 100)\n",
    "plt.plot(xarr, hyperbolic(xarr, *params), 'b:', linewidth=2, alpha=0.5)\n",
    "\n",
    "# Plot the experimental samples.\n",
    "plt.plot(estimated_pmol_test, experimental_fluor, 'r.', markersize=8, alpha=0.7)\n",
    "\n",
    "ax.set_xlabel('Protein (pmol)', fontsize=8)\n",
    "ax.set_ylabel('Band intensity', fontsize=8)\n",
    "\n",
    "plt.show(); plt.clf()"
   ]
  },
  {
   "cell_type": "code",
   "execution_count": null,
   "id": "1694cbee-cd88-4897-b3e5-46b48e280d85",
   "metadata": {},
   "outputs": [],
   "source": []
  }
 ],
 "metadata": {
  "kernelspec": {
   "display_name": "Python 3",
   "language": "python",
   "name": "python3"
  },
  "language_info": {
   "codemirror_mode": {
    "name": "ipython",
    "version": 3
   },
   "file_extension": ".py",
   "mimetype": "text/x-python",
   "name": "python",
   "nbconvert_exporter": "python",
   "pygments_lexer": "ipython3",
   "version": "3.8.5"
  }
 },
 "nbformat": 4,
 "nbformat_minor": 5
}
